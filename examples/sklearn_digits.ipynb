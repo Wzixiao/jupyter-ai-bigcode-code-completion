{
 "cells": [
  {
   "cell_type": "code",
   "execution_count": 8,
   "id": "dcbb2940-4d47-45ac-923a-f80eed1d26f5",
   "metadata": {},
   "outputs": [],
   "source": [
    "# load Digits Dataset from sklearn\n"
   ]
  },
  {
   "cell_type": "markdown",
   "id": "f3a60c45-244b-49f2-8527-519c5a2557a6",
   "metadata": {},
   "source": [
    "Print to show there are 1797 images (8 by 8 images for a dimensionality of 64)"
   ]
  },
  {
   "cell_type": "markdown",
   "id": "0c159867-a499-4181-9713-d2558f1a258d",
   "metadata": {},
   "source": [
    "Print to show there are 1797 labels (integers from 0–9)"
   ]
  },
  {
   "cell_type": "code",
   "execution_count": null,
   "id": "e216707c-1ea7-446a-ac69-cd013e76b5f2",
   "metadata": {},
   "outputs": [],
   "source": []
  },
  {
   "cell_type": "markdown",
   "id": "fe688a3e-29cb-464d-9eef-7e17ce4b9dee",
   "metadata": {},
   "source": [
    "Showing the Images and the Labels (Digits Dataset)"
   ]
  },
  {
   "cell_type": "markdown",
   "id": "f2f5505f-32b1-4e22-8878-39f20e71335d",
   "metadata": {},
   "source": [
    "This section is really just to show what the images and labels look like. It usually helps to visualize your data to see what you are working with."
   ]
  },
  {
   "cell_type": "code",
   "execution_count": null,
   "id": "4328fb40-b40c-4fde-8ef4-6a5b38c5dd10",
   "metadata": {},
   "outputs": [],
   "source": []
  }
 ],
 "metadata": {
  "kernelspec": {
   "display_name": "Python 3 (ipykernel)",
   "language": "python",
   "name": "python3"
  },
  "language_info": {
   "codemirror_mode": {
    "name": "ipython",
    "version": 3
   },
   "file_extension": ".py",
   "mimetype": "text/x-python",
   "name": "python",
   "nbconvert_exporter": "python",
   "pygments_lexer": "ipython3",
   "version": "3.11.4"
  }
 },
 "nbformat": 4,
 "nbformat_minor": 5
}
